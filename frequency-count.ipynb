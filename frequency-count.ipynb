{
 "cells": [
  {
   "cell_type": "markdown",
   "metadata": {},
   "source": [
    "#### Problem\n",
    "Write a Python program that calculates the frequency of each character in a given\n",
    "input string. Your program should count how many times each character appears\n",
    "in the input and display the results.\n",
    "\n",
    "Example: Enter a string: hello world\n",
    "\n",
    "Output: ’h’: 1 ’e’: 1 ’l’: 3 ’o’: 2 ’ ’: 1 ’w’: 1 ’r’: 1 ’d’: 1"
   ]
  },
  {
   "cell_type": "code",
   "execution_count": 6,
   "metadata": {},
   "outputs": [],
   "source": [
    "line = \"hello world\"\n",
    "counts = {}"
   ]
  },
  {
   "cell_type": "markdown",
   "metadata": {},
   "source": [
    "#### Generate the counts\n",
    "Iterate through the chars of the input line, check the existance of the current char in the `counts` dict, if found increase by one, else set 1"
   ]
  },
  {
   "cell_type": "markdown",
   "metadata": {},
   "source": []
  },
  {
   "cell_type": "code",
   "execution_count": 13,
   "metadata": {},
   "outputs": [],
   "source": [
    "for c in line:\n",
    "    if counts.get(c):\n",
    "        counts[c] += 1\n",
    "    else:\n",
    "        counts[c] = 1"
   ]
  },
  {
   "cell_type": "code",
   "execution_count": 14,
   "metadata": {},
   "outputs": [],
   "source": [
    "def concat_by_colon(items):\n",
    "    return \": \".join(map(str, items))"
   ]
  },
  {
   "cell_type": "code",
   "execution_count": 15,
   "metadata": {},
   "outputs": [
    {
     "name": "stdout",
     "output_type": "stream",
     "text": [
      "h: 3, e: 3, l: 9, o: 6,  : 3, w: 3, r: 3, d: 3\n"
     ]
    }
   ],
   "source": [
    "print(\", \".join(map(concat_by_colon, counts.items())))"
   ]
  }
 ],
 "metadata": {
  "kernelspec": {
   "display_name": "Python 3",
   "language": "python",
   "name": "python3"
  },
  "language_info": {
   "codemirror_mode": {
    "name": "ipython",
    "version": 3
   },
   "file_extension": ".py",
   "mimetype": "text/x-python",
   "name": "python",
   "nbconvert_exporter": "python",
   "pygments_lexer": "ipython3",
   "version": "3.12.3"
  }
 },
 "nbformat": 4,
 "nbformat_minor": 2
}
